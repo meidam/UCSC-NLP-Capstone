{
 "cells": [
  {
   "cell_type": "code",
   "execution_count": 7,
   "metadata": {
    "pycharm": {
     "name": "#%%\n"
    }
   },
   "outputs": [
    {
     "name": "stdout",
     "output_type": "stream",
     "text": [
      "06/26/2021 16:18:33 - WARNING - datasets.builder -   Reusing dataset squad (C:\\Users\\unitu\\.cache\\huggingface\\datasets\\squad\\plain_text\\1.0.0\\6b6c4172d0119c74515f44ea0b8262efe4897f2ddb6613e5e915840fdc309c16)\n"
     ]
    }
   ],
   "source": [
    "import transformers\n",
    "import json\n",
    "\n",
    "import datasets\n",
    "squad_dataset = datasets.load_dataset('squad')\n",
    "from datasets import concatenate_datasets\n",
    "\n",
    "import pandas as pd\n",
    "import json\n",
    "import numpy as np\n",
    "covid_file = '../data/COVID-QA.json'\n",
    "jsonfile = open(covid_file, 'r')\n",
    "\n",
    "covidQA = jsonfile.read()\n",
    "jsonfile.close()\n",
    "\n",
    "covid_data = json.loads(covidQA)"
   ]
  },
  {
   "cell_type": "code",
   "execution_count": 8,
   "metadata": {
    "pycharm": {
     "name": "#%%\n"
    }
   },
   "outputs": [],
   "source": [
    "from collections import OrderedDict\n",
    "\n",
    "def convert_to_squad_format(data):\n",
    "    covid_qa_squad_format = []\n",
    "    for rows in data['data']:\n",
    "      for context in rows['paragraphs']:\n",
    "        for qa_pairs in context['qas']:\n",
    "\n",
    "          features = {'answers': {'text':[qa_pairs['answers'][0]['text']],\n",
    "                                  'answer_start': np.array([qa_pairs['answers'][0]['answer_start']], dtype=np.int32)},\n",
    "                      'context':str(context['context']),\n",
    "                      'id':str(context['document_id']),\n",
    "                      'question':qa_pairs['question'],\n",
    "                      'title': 'COVID_19'\n",
    "                      }\n",
    "          covid_qa_squad_format.append(features)\n",
    "    covid_df = pd.DataFrame(covid_qa_squad_format)\n",
    "    covid_dict = {'features', covid_qa_squad_format}\n",
    "    return (datasets.Dataset.from_dict(covid_df))\n",
    "\n",
    "\n",
    "def make_and_save_full_dataset(covid,squad, path):\n",
    "    full_data = datasets.dataset_dict.DatasetDict({'covid':covid, 'squad':squad})\n",
    "    full_data.save_to_disk(path)\n",
    "\n",
    "def update_dataset_dict(to_remove_per_step, covid,squad, path):\n",
    "    squad.shuffle()\n",
    "    #covid.shuffle()\n",
    "    if squad.num_rows > to_remove_per_step:\n",
    "        #covid = datasets.Dataset.from_dict(covid[:])\n",
    "        squad = datasets.Dataset.from_dict(squad[:-to_remove_per_step])\n",
    "        make_and_save_full_dataset(covid,squad,path)"
   ]
  },
  {
   "cell_type": "code",
   "execution_count": 9,
   "metadata": {
    "pycharm": {
     "name": "#%%\n"
    }
   },
   "outputs": [
    {
     "name": "stdout",
     "output_type": "stream",
     "text": [
      "06/26/2021 16:18:33 - WARNING - datasets.builder -   Using custom data configuration default-38ab67c17eb3db2d\n",
      "06/26/2021 16:18:33 - WARNING - datasets.builder -   Reusing dataset squad (C:\\Users\\unitu\\.cache\\huggingface\\datasets\\squad\\default-38ab67c17eb3db2d\\0.0.0\\cb00e306c4924563ce3d1292a1ce1b86b2753dab6285ce43c87b39c5bda3ef4e)\n"
     ]
    }
   ],
   "source": [
    "#covid_qa = convert_to_squad_format(covid_data)\n",
    "covid_qa = datasets.load_dataset('custom_squad.py', data_files= {'train':covid_file})['train']\n",
    "#covid_qa = covid_qa['train']\n",
    "squad_qa = concatenate_datasets([squad_dataset['train'], squad_dataset['validation']])\n",
    "covid_and_squad_dataset_path = \"../data/squad_and_covidQA/\"\n",
    "#this is just for testing purposes, I am going to make both of these files very small only at max 3000 datasets\n",
    "squad_qa = datasets.Dataset.from_dict(squad_qa[:100])\n",
    "covid_qa = datasets.Dataset.from_dict(covid_qa[:50])"
   ]
  },
  {
   "cell_type": "code",
   "execution_count": 10,
   "outputs": [
    {
     "ename": "OSError",
     "evalue": "[Errno 22] Invalid argument: 'C:/Users/unitu/PycharmProjects/UCSC-NLP-Capstone/data/squad_and_covidQA/covid/dataset.arrow'",
     "output_type": "error",
     "traceback": [
      "\u001B[1;31m---------------------------------------------------------------------------\u001B[0m",
      "\u001B[1;31mOSError\u001B[0m                                   Traceback (most recent call last)",
      "\u001B[1;32m<ipython-input-10-3a20bbf38488>\u001B[0m in \u001B[0;36m<module>\u001B[1;34m\u001B[0m\n\u001B[1;32m----> 1\u001B[1;33m \u001B[0mmake_and_save_full_dataset\u001B[0m\u001B[1;33m(\u001B[0m\u001B[0mcovid_qa\u001B[0m\u001B[1;33m,\u001B[0m\u001B[0msquad_qa\u001B[0m\u001B[1;33m,\u001B[0m\u001B[0mcovid_and_squad_dataset_path\u001B[0m\u001B[1;33m)\u001B[0m\u001B[1;33m\u001B[0m\u001B[1;33m\u001B[0m\u001B[0m\n\u001B[0m\u001B[0;32m      2\u001B[0m \u001B[1;33m\u001B[0m\u001B[0m\n\u001B[0;32m      3\u001B[0m \u001B[0mK\u001B[0m \u001B[1;33m=\u001B[0m \u001B[1;36m3\u001B[0m\u001B[1;33m\u001B[0m\u001B[1;33m\u001B[0m\u001B[0m\n\u001B[0;32m      4\u001B[0m \u001B[0mto_remove_per_step\u001B[0m \u001B[1;33m=\u001B[0m \u001B[0mint\u001B[0m\u001B[1;33m(\u001B[0m\u001B[0msquad_qa\u001B[0m\u001B[1;33m.\u001B[0m\u001B[0mnum_rows\u001B[0m \u001B[1;33m/\u001B[0m \u001B[0mK\u001B[0m\u001B[1;33m)\u001B[0m\u001B[1;33m\u001B[0m\u001B[1;33m\u001B[0m\u001B[0m\n\u001B[0;32m      5\u001B[0m \u001B[1;33m\u001B[0m\u001B[0m\n",
      "\u001B[1;32m<ipython-input-8-919f04bf9e5f>\u001B[0m in \u001B[0;36mmake_and_save_full_dataset\u001B[1;34m(covid, squad, path)\u001B[0m\n\u001B[0;32m     22\u001B[0m \u001B[1;32mdef\u001B[0m \u001B[0mmake_and_save_full_dataset\u001B[0m\u001B[1;33m(\u001B[0m\u001B[0mcovid\u001B[0m\u001B[1;33m,\u001B[0m\u001B[0msquad\u001B[0m\u001B[1;33m,\u001B[0m \u001B[0mpath\u001B[0m\u001B[1;33m)\u001B[0m\u001B[1;33m:\u001B[0m\u001B[1;33m\u001B[0m\u001B[1;33m\u001B[0m\u001B[0m\n\u001B[0;32m     23\u001B[0m     \u001B[0mfull_data\u001B[0m \u001B[1;33m=\u001B[0m \u001B[0mdatasets\u001B[0m\u001B[1;33m.\u001B[0m\u001B[0mdataset_dict\u001B[0m\u001B[1;33m.\u001B[0m\u001B[0mDatasetDict\u001B[0m\u001B[1;33m(\u001B[0m\u001B[1;33m{\u001B[0m\u001B[1;34m'covid'\u001B[0m\u001B[1;33m:\u001B[0m\u001B[0mcovid\u001B[0m\u001B[1;33m,\u001B[0m \u001B[1;34m'squad'\u001B[0m\u001B[1;33m:\u001B[0m\u001B[0msquad\u001B[0m\u001B[1;33m}\u001B[0m\u001B[1;33m)\u001B[0m\u001B[1;33m\u001B[0m\u001B[1;33m\u001B[0m\u001B[0m\n\u001B[1;32m---> 24\u001B[1;33m     \u001B[0mfull_data\u001B[0m\u001B[1;33m.\u001B[0m\u001B[0msave_to_disk\u001B[0m\u001B[1;33m(\u001B[0m\u001B[0mpath\u001B[0m\u001B[1;33m)\u001B[0m\u001B[1;33m\u001B[0m\u001B[1;33m\u001B[0m\u001B[0m\n\u001B[0m\u001B[0;32m     25\u001B[0m \u001B[1;33m\u001B[0m\u001B[0m\n\u001B[0;32m     26\u001B[0m \u001B[1;32mdef\u001B[0m \u001B[0mupdate_dataset_dict\u001B[0m\u001B[1;33m(\u001B[0m\u001B[0mto_remove_per_step\u001B[0m\u001B[1;33m,\u001B[0m \u001B[0mcovid\u001B[0m\u001B[1;33m,\u001B[0m\u001B[0msquad\u001B[0m\u001B[1;33m,\u001B[0m \u001B[0mpath\u001B[0m\u001B[1;33m)\u001B[0m\u001B[1;33m:\u001B[0m\u001B[1;33m\u001B[0m\u001B[1;33m\u001B[0m\u001B[0m\n",
      "\u001B[1;32m~\\anaconda3\\envs\\NLP-UCSC-Capstone\\lib\\site-packages\\datasets\\dataset_dict.py\u001B[0m in \u001B[0;36msave_to_disk\u001B[1;34m(self, dataset_dict_path, fs)\u001B[0m\n\u001B[0;32m    693\u001B[0m         )\n\u001B[0;32m    694\u001B[0m         \u001B[1;32mfor\u001B[0m \u001B[0mk\u001B[0m\u001B[1;33m,\u001B[0m \u001B[0mdataset\u001B[0m \u001B[1;32min\u001B[0m \u001B[0mself\u001B[0m\u001B[1;33m.\u001B[0m\u001B[0mitems\u001B[0m\u001B[1;33m(\u001B[0m\u001B[1;33m)\u001B[0m\u001B[1;33m:\u001B[0m\u001B[1;33m\u001B[0m\u001B[1;33m\u001B[0m\u001B[0m\n\u001B[1;32m--> 695\u001B[1;33m             \u001B[0mdataset\u001B[0m\u001B[1;33m.\u001B[0m\u001B[0msave_to_disk\u001B[0m\u001B[1;33m(\u001B[0m\u001B[0mPath\u001B[0m\u001B[1;33m(\u001B[0m\u001B[0mdest_dataset_dict_path\u001B[0m\u001B[1;33m,\u001B[0m \u001B[0mk\u001B[0m\u001B[1;33m)\u001B[0m\u001B[1;33m.\u001B[0m\u001B[0mas_posix\u001B[0m\u001B[1;33m(\u001B[0m\u001B[1;33m)\u001B[0m\u001B[1;33m,\u001B[0m \u001B[0mfs\u001B[0m\u001B[1;33m)\u001B[0m\u001B[1;33m\u001B[0m\u001B[1;33m\u001B[0m\u001B[0m\n\u001B[0m\u001B[0;32m    696\u001B[0m \u001B[1;33m\u001B[0m\u001B[0m\n\u001B[0;32m    697\u001B[0m     \u001B[1;33m@\u001B[0m\u001B[0mstaticmethod\u001B[0m\u001B[1;33m\u001B[0m\u001B[1;33m\u001B[0m\u001B[0m\n",
      "\u001B[1;32m~\\anaconda3\\envs\\NLP-UCSC-Capstone\\lib\\site-packages\\datasets\\arrow_dataset.py\u001B[0m in \u001B[0;36msave_to_disk\u001B[1;34m(self, dataset_path, fs)\u001B[0m\n\u001B[0;32m    635\u001B[0m         \u001B[1;31m# Save dataset + indices + state + info\u001B[0m\u001B[1;33m\u001B[0m\u001B[1;33m\u001B[0m\u001B[1;33m\u001B[0m\u001B[0m\n\u001B[0;32m    636\u001B[0m         \u001B[0mfs\u001B[0m\u001B[1;33m.\u001B[0m\u001B[0mmakedirs\u001B[0m\u001B[1;33m(\u001B[0m\u001B[0mdataset_path\u001B[0m\u001B[1;33m,\u001B[0m \u001B[0mexist_ok\u001B[0m\u001B[1;33m=\u001B[0m\u001B[1;32mTrue\u001B[0m\u001B[1;33m)\u001B[0m\u001B[1;33m\u001B[0m\u001B[1;33m\u001B[0m\u001B[0m\n\u001B[1;32m--> 637\u001B[1;33m         \u001B[1;32mwith\u001B[0m \u001B[0mfs\u001B[0m\u001B[1;33m.\u001B[0m\u001B[0mopen\u001B[0m\u001B[1;33m(\u001B[0m\u001B[0mPath\u001B[0m\u001B[1;33m(\u001B[0m\u001B[0mdataset_path\u001B[0m\u001B[1;33m,\u001B[0m \u001B[0mconfig\u001B[0m\u001B[1;33m.\u001B[0m\u001B[0mDATASET_ARROW_FILENAME\u001B[0m\u001B[1;33m)\u001B[0m\u001B[1;33m.\u001B[0m\u001B[0mas_posix\u001B[0m\u001B[1;33m(\u001B[0m\u001B[1;33m)\u001B[0m\u001B[1;33m,\u001B[0m \u001B[1;34m\"wb\"\u001B[0m\u001B[1;33m)\u001B[0m \u001B[1;32mas\u001B[0m \u001B[0mdataset_file\u001B[0m\u001B[1;33m:\u001B[0m\u001B[1;33m\u001B[0m\u001B[1;33m\u001B[0m\u001B[0m\n\u001B[0m\u001B[0;32m    638\u001B[0m             \u001B[1;32mwith\u001B[0m \u001B[0mArrowWriter\u001B[0m\u001B[1;33m(\u001B[0m\u001B[0mstream\u001B[0m\u001B[1;33m=\u001B[0m\u001B[0mdataset_file\u001B[0m\u001B[1;33m)\u001B[0m \u001B[1;32mas\u001B[0m \u001B[0mwriter\u001B[0m\u001B[1;33m:\u001B[0m\u001B[1;33m\u001B[0m\u001B[1;33m\u001B[0m\u001B[0m\n\u001B[0;32m    639\u001B[0m                 \u001B[0mwriter\u001B[0m\u001B[1;33m.\u001B[0m\u001B[0mwrite_table\u001B[0m\u001B[1;33m(\u001B[0m\u001B[0mself\u001B[0m\u001B[1;33m.\u001B[0m\u001B[0m_data\u001B[0m\u001B[1;33m)\u001B[0m\u001B[1;33m\u001B[0m\u001B[1;33m\u001B[0m\u001B[0m\n",
      "\u001B[1;32m~\\anaconda3\\envs\\NLP-UCSC-Capstone\\lib\\site-packages\\fsspec\\spec.py\u001B[0m in \u001B[0;36mopen\u001B[1;34m(self, path, mode, block_size, cache_options, **kwargs)\u001B[0m\n\u001B[0;32m    960\u001B[0m         \u001B[1;32melse\u001B[0m\u001B[1;33m:\u001B[0m\u001B[1;33m\u001B[0m\u001B[1;33m\u001B[0m\u001B[0m\n\u001B[0;32m    961\u001B[0m             \u001B[0mac\u001B[0m \u001B[1;33m=\u001B[0m \u001B[0mkwargs\u001B[0m\u001B[1;33m.\u001B[0m\u001B[0mpop\u001B[0m\u001B[1;33m(\u001B[0m\u001B[1;34m\"autocommit\"\u001B[0m\u001B[1;33m,\u001B[0m \u001B[1;32mnot\u001B[0m \u001B[0mself\u001B[0m\u001B[1;33m.\u001B[0m\u001B[0m_intrans\u001B[0m\u001B[1;33m)\u001B[0m\u001B[1;33m\u001B[0m\u001B[1;33m\u001B[0m\u001B[0m\n\u001B[1;32m--> 962\u001B[1;33m             f = self._open(\n\u001B[0m\u001B[0;32m    963\u001B[0m                 \u001B[0mpath\u001B[0m\u001B[1;33m,\u001B[0m\u001B[1;33m\u001B[0m\u001B[1;33m\u001B[0m\u001B[0m\n\u001B[0;32m    964\u001B[0m                 \u001B[0mmode\u001B[0m\u001B[1;33m=\u001B[0m\u001B[0mmode\u001B[0m\u001B[1;33m,\u001B[0m\u001B[1;33m\u001B[0m\u001B[1;33m\u001B[0m\u001B[0m\n",
      "\u001B[1;32m~\\anaconda3\\envs\\NLP-UCSC-Capstone\\lib\\site-packages\\fsspec\\implementations\\local.py\u001B[0m in \u001B[0;36m_open\u001B[1;34m(self, path, mode, block_size, **kwargs)\u001B[0m\n\u001B[0;32m    142\u001B[0m         \u001B[1;32mif\u001B[0m \u001B[0mself\u001B[0m\u001B[1;33m.\u001B[0m\u001B[0mauto_mkdir\u001B[0m \u001B[1;32mand\u001B[0m \u001B[1;34m\"w\"\u001B[0m \u001B[1;32min\u001B[0m \u001B[0mmode\u001B[0m\u001B[1;33m:\u001B[0m\u001B[1;33m\u001B[0m\u001B[1;33m\u001B[0m\u001B[0m\n\u001B[0;32m    143\u001B[0m             \u001B[0mself\u001B[0m\u001B[1;33m.\u001B[0m\u001B[0mmakedirs\u001B[0m\u001B[1;33m(\u001B[0m\u001B[0mself\u001B[0m\u001B[1;33m.\u001B[0m\u001B[0m_parent\u001B[0m\u001B[1;33m(\u001B[0m\u001B[0mpath\u001B[0m\u001B[1;33m)\u001B[0m\u001B[1;33m,\u001B[0m \u001B[0mexist_ok\u001B[0m\u001B[1;33m=\u001B[0m\u001B[1;32mTrue\u001B[0m\u001B[1;33m)\u001B[0m\u001B[1;33m\u001B[0m\u001B[1;33m\u001B[0m\u001B[0m\n\u001B[1;32m--> 144\u001B[1;33m         \u001B[1;32mreturn\u001B[0m \u001B[0mLocalFileOpener\u001B[0m\u001B[1;33m(\u001B[0m\u001B[0mpath\u001B[0m\u001B[1;33m,\u001B[0m \u001B[0mmode\u001B[0m\u001B[1;33m,\u001B[0m \u001B[0mfs\u001B[0m\u001B[1;33m=\u001B[0m\u001B[0mself\u001B[0m\u001B[1;33m,\u001B[0m \u001B[1;33m**\u001B[0m\u001B[0mkwargs\u001B[0m\u001B[1;33m)\u001B[0m\u001B[1;33m\u001B[0m\u001B[1;33m\u001B[0m\u001B[0m\n\u001B[0m\u001B[0;32m    145\u001B[0m \u001B[1;33m\u001B[0m\u001B[0m\n\u001B[0;32m    146\u001B[0m     \u001B[1;32mdef\u001B[0m \u001B[0mtouch\u001B[0m\u001B[1;33m(\u001B[0m\u001B[0mself\u001B[0m\u001B[1;33m,\u001B[0m \u001B[0mpath\u001B[0m\u001B[1;33m,\u001B[0m \u001B[1;33m**\u001B[0m\u001B[0mkwargs\u001B[0m\u001B[1;33m)\u001B[0m\u001B[1;33m:\u001B[0m\u001B[1;33m\u001B[0m\u001B[1;33m\u001B[0m\u001B[0m\n",
      "\u001B[1;32m~\\anaconda3\\envs\\NLP-UCSC-Capstone\\lib\\site-packages\\fsspec\\implementations\\local.py\u001B[0m in \u001B[0;36m__init__\u001B[1;34m(self, path, mode, autocommit, fs, compression, **kwargs)\u001B[0m\n\u001B[0;32m    233\u001B[0m         \u001B[0mself\u001B[0m\u001B[1;33m.\u001B[0m\u001B[0mcompression\u001B[0m \u001B[1;33m=\u001B[0m \u001B[0mget_compression\u001B[0m\u001B[1;33m(\u001B[0m\u001B[0mpath\u001B[0m\u001B[1;33m,\u001B[0m \u001B[0mcompression\u001B[0m\u001B[1;33m)\u001B[0m\u001B[1;33m\u001B[0m\u001B[1;33m\u001B[0m\u001B[0m\n\u001B[0;32m    234\u001B[0m         \u001B[0mself\u001B[0m\u001B[1;33m.\u001B[0m\u001B[0mblocksize\u001B[0m \u001B[1;33m=\u001B[0m \u001B[0mio\u001B[0m\u001B[1;33m.\u001B[0m\u001B[0mDEFAULT_BUFFER_SIZE\u001B[0m\u001B[1;33m\u001B[0m\u001B[1;33m\u001B[0m\u001B[0m\n\u001B[1;32m--> 235\u001B[1;33m         \u001B[0mself\u001B[0m\u001B[1;33m.\u001B[0m\u001B[0m_open\u001B[0m\u001B[1;33m(\u001B[0m\u001B[1;33m)\u001B[0m\u001B[1;33m\u001B[0m\u001B[1;33m\u001B[0m\u001B[0m\n\u001B[0m\u001B[0;32m    236\u001B[0m \u001B[1;33m\u001B[0m\u001B[0m\n\u001B[0;32m    237\u001B[0m     \u001B[1;32mdef\u001B[0m \u001B[0m_open\u001B[0m\u001B[1;33m(\u001B[0m\u001B[0mself\u001B[0m\u001B[1;33m)\u001B[0m\u001B[1;33m:\u001B[0m\u001B[1;33m\u001B[0m\u001B[1;33m\u001B[0m\u001B[0m\n",
      "\u001B[1;32m~\\anaconda3\\envs\\NLP-UCSC-Capstone\\lib\\site-packages\\fsspec\\implementations\\local.py\u001B[0m in \u001B[0;36m_open\u001B[1;34m(self)\u001B[0m\n\u001B[0;32m    238\u001B[0m         \u001B[1;32mif\u001B[0m \u001B[0mself\u001B[0m\u001B[1;33m.\u001B[0m\u001B[0mf\u001B[0m \u001B[1;32mis\u001B[0m \u001B[1;32mNone\u001B[0m \u001B[1;32mor\u001B[0m \u001B[0mself\u001B[0m\u001B[1;33m.\u001B[0m\u001B[0mf\u001B[0m\u001B[1;33m.\u001B[0m\u001B[0mclosed\u001B[0m\u001B[1;33m:\u001B[0m\u001B[1;33m\u001B[0m\u001B[1;33m\u001B[0m\u001B[0m\n\u001B[0;32m    239\u001B[0m             \u001B[1;32mif\u001B[0m \u001B[0mself\u001B[0m\u001B[1;33m.\u001B[0m\u001B[0mautocommit\u001B[0m \u001B[1;32mor\u001B[0m \u001B[1;34m\"w\"\u001B[0m \u001B[1;32mnot\u001B[0m \u001B[1;32min\u001B[0m \u001B[0mself\u001B[0m\u001B[1;33m.\u001B[0m\u001B[0mmode\u001B[0m\u001B[1;33m:\u001B[0m\u001B[1;33m\u001B[0m\u001B[1;33m\u001B[0m\u001B[0m\n\u001B[1;32m--> 240\u001B[1;33m                 \u001B[0mself\u001B[0m\u001B[1;33m.\u001B[0m\u001B[0mf\u001B[0m \u001B[1;33m=\u001B[0m \u001B[0mopen\u001B[0m\u001B[1;33m(\u001B[0m\u001B[0mself\u001B[0m\u001B[1;33m.\u001B[0m\u001B[0mpath\u001B[0m\u001B[1;33m,\u001B[0m \u001B[0mmode\u001B[0m\u001B[1;33m=\u001B[0m\u001B[0mself\u001B[0m\u001B[1;33m.\u001B[0m\u001B[0mmode\u001B[0m\u001B[1;33m)\u001B[0m\u001B[1;33m\u001B[0m\u001B[1;33m\u001B[0m\u001B[0m\n\u001B[0m\u001B[0;32m    241\u001B[0m                 \u001B[1;32mif\u001B[0m \u001B[0mself\u001B[0m\u001B[1;33m.\u001B[0m\u001B[0mcompression\u001B[0m\u001B[1;33m:\u001B[0m\u001B[1;33m\u001B[0m\u001B[1;33m\u001B[0m\u001B[0m\n\u001B[0;32m    242\u001B[0m                     \u001B[0mcompress\u001B[0m \u001B[1;33m=\u001B[0m \u001B[0mcompr\u001B[0m\u001B[1;33m[\u001B[0m\u001B[0mself\u001B[0m\u001B[1;33m.\u001B[0m\u001B[0mcompression\u001B[0m\u001B[1;33m]\u001B[0m\u001B[1;33m\u001B[0m\u001B[1;33m\u001B[0m\u001B[0m\n",
      "\u001B[1;31mOSError\u001B[0m: [Errno 22] Invalid argument: 'C:/Users/unitu/PycharmProjects/UCSC-NLP-Capstone/data/squad_and_covidQA/covid/dataset.arrow'"
     ]
    }
   ],
   "source": [
    "make_and_save_full_dataset(covid_qa,squad_qa,covid_and_squad_dataset_path)\n",
    "\n",
    "K = 3\n",
    "to_remove_per_step = int(squad_qa.num_rows / K)"
   ],
   "metadata": {
    "collapsed": false,
    "pycharm": {
     "name": "#%%\n"
    }
   }
  },
  {
   "cell_type": "code",
   "execution_count": null,
   "metadata": {
    "pycharm": {
     "name": "#%%\n"
    }
   },
   "outputs": [],
   "source": [
    "print(covid_qa.num_rows)\n",
    "squad_qa"
   ]
  },
  {
   "cell_type": "code",
   "execution_count": null,
   "metadata": {
    "pycharm": {
     "name": "#%%\n"
    }
   },
   "outputs": [],
   "source": [
    "for i in range(K):\n",
    "    print('**************************************************')\n",
    "    print('==================================================')\n",
    "    print('          At Gradual Fine Tuning Step: ',i+1)\n",
    "    print('**************************************************')\n",
    "    print('==================================================')\n",
    "    if i < 1:\n",
    "      %run run_qa.py \\\n",
    "      --model_name_or_path roberta-base \\\n",
    "      --dataset_name ../data/squad_and_covidQA/ \\\n",
    "      --do_train \\\n",
    "      --do_eval \\\n",
    "      --do_predict \\\n",
    "      --per_device_train_batch_size 35\\\n",
    "      --per_device_eval_batch_size 35\\\n",
    "      --evaluation_strategy \"no\" \\\n",
    "      --save_strategy \"no\" \\\n",
    "      --logging_strategy \"epoch\" \\\n",
    "      --learning_rate 3e-5 \\\n",
    "      --num_train_epochs 1 \\\n",
    "      --max_seq_length 384 \\\n",
    "      --doc_stride 128 \\\n",
    "      --k_fold_cross_valid 5 \\\n",
    "      --output_dir ../models/gradual_ft_baseline \\\n",
    "      --overwrite_output_dir\n",
    "    else:\n",
    "      %run run_qa.py \\\n",
    "      --model_name_or_path ../models/gradual_ft_baseline/Split-5/ \\\n",
    "      --dataset_name ../data/squad_and_covidQA/ \\\n",
    "      --do_train \\\n",
    "      --do_eval \\\n",
    "      --do_predict \\\n",
    "      --per_device_train_batch_size 35\\\n",
    "      --per_device_eval_batch_size 35\\\n",
    "      --evaluation_strategy \"no\" \\\n",
    "      --save_strategy \"no\" \\\n",
    "      --logging_strategy \"epoch\" \\\n",
    "      --learning_rate 3e-5 \\\n",
    "      --num_train_epochs 1 \\\n",
    "      --max_seq_length 384 \\\n",
    "      --doc_stride 128 \\\n",
    "      --k_fold_cross_valid 5 \\\n",
    "      --output_dir ../models/gradual_ft_baseline/ \\\n",
    "      --overwrite_output_dir\n",
    "    if to_remove_per_step > squad_qa.num_rows:\n",
    "        break\n",
    "    covid_qa = datasets.Dataset.from_dict(covid_qa[:])\n",
    "    squad_qa = datasets.Dataset.from_dict(squad_qa[:-to_remove_per_step])\n",
    "    make_and_save_full_dataset(covid_qa,squad_qa,covid_and_squad_dataset_path)\n",
    "\n",
    "print('Finished process')"
   ]
  },
  {
   "cell_type": "code",
   "execution_count": null,
   "metadata": {
    "pycharm": {
     "name": "#%%\n"
    }
   },
   "outputs": [],
   "source": [
    "k_fold = 5\n",
    "while to_remove_per_step < squad_qa.num_rows:\n",
    "    print(covid_qa.num_rows)\n",
    "    print(squad_qa.num_rows)\n",
    "    cur_datasets = []\n",
    "    for k in range(k_fold):\n",
    "        cur_datasets.append(covid_qa.shard(num_shards=k_fold, index=k, contiguous=True))\n",
    "    squad_qa.shuffle()\n",
    "    covid_qa.shuffle()\n",
    "    covid_qa = datasets.Dataset.from_dict(covid_qa[:])\n",
    "    squad_qa = datasets.Dataset.from_dict(squad_qa[:-to_remove_per_step])\n",
    "    make_and_save_full_dataset(covid_qa,squad_qa,covid_and_squad_dataset_path)"
   ]
  }
 ],
 "metadata": {
  "kernelspec": {
   "display_name": "Python 3",
   "language": "python",
   "name": "python3"
  },
  "language_info": {
   "codemirror_mode": {
    "name": "ipython",
    "version": 3
   },
   "file_extension": ".py",
   "mimetype": "text/x-python",
   "name": "python",
   "nbconvert_exporter": "python",
   "pygments_lexer": "ipython3",
   "version": "3.9.5"
  }
 },
 "nbformat": 4,
 "nbformat_minor": 1
}